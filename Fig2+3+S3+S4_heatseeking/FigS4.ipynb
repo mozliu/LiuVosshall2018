{
 "cells": [
  {
   "cell_type": "code",
   "execution_count": 2,
   "metadata": {},
   "outputs": [],
   "source": [
    "import numpy as np\n",
    "import matplotlib.pyplot as plt\n",
    "import scipy.stats as stats\n",
    "from statsmodels.robust.scale import mad\n",
    "import scipy.io as sio\n",
    "import hsutil\n",
    "import csv\n",
    "from importlib import reload\n",
    "%matplotlib inline\n",
    "plt.style.use('seaborn-whitegrid')\n",
    "plt.style.use('seaborn-paper')"
   ]
  },
  {
   "cell_type": "code",
   "execution_count": 9,
   "metadata": {},
   "outputs": [],
   "source": [
    "def plot_trace(t,tot,c='0.5',ax=None,label=None,indiv=True,med=False):\n",
    "    if ax is None:\n",
    "        ax = plt.gca()\n",
    "    avg = np.nanmedian(tot,axis=0)\n",
    "    if indiv:\n",
    "        for trace in tot:\n",
    "            ax.plot(t,trace,c=c,alpha=0.2)\n",
    "    if med:\n",
    "        medabs = mad(tot,c=1,axis=0)\n",
    "        ax.fill_between(t,avg-medabs,avg+medabs,alpha=0.4,facecolor=c,edgecolor=None)\n",
    "    ax.plot(t,avg,alpha=0.9,lw=0.75,c=c,label=label)\n",
    "    return ax"
   ]
  },
  {
   "cell_type": "code",
   "execution_count": 4,
   "metadata": {},
   "outputs": [],
   "source": [
    "fn = '/home/mliu/Dropbox/labwork/ML TRP/Molly Liu Manuscript/LiuVosshall2018/Fig2+3+S2+S3_heatseeking/LiuVosshall_Data_S3C.csv'\n",
    "data = np.genfromtxt(fn, delimiter=',')"
   ]
  },
  {
   "cell_type": "code",
   "execution_count": 52,
   "metadata": {},
   "outputs": [],
   "source": [
    "templabels = np.unique(data[:,0])\n",
    "replabels = np.unique(data[:,1])\n",
    "t = np.unique(data[:,2])\n",
    "tot = np.empty([len(replabels),len(t)])"
   ]
  },
  {
   "cell_type": "code",
   "execution_count": 72,
   "metadata": {},
   "outputs": [
    {
     "data": {
      "image/png": "[encoded data removed]",
      "text/plain": [
       "<Figure size 504x144 with 11 Axes>"
      ]
     },
     "metadata": {},
     "output_type": "display_data"
    }
   ],
   "source": [
    "f,ax = plt.subplots(1,len(templabels),sharex=True,sharey=True)\n",
    "f.set_size_inches([7,2])\n",
    "\n",
    "for i in range(len(templabels)):\n",
    "    tot = np.empty([len(replabels),len(t)])\n",
    "    for j in range(len(replabels)):\n",
    "        f = (data[:,0] == templabels[i])\n",
    "        g = (data[:,1] == replabels[j])\n",
    "        a = data[f & g,3]\n",
    "        tot[j,:] = a\n",
    "        nanfilt[j] = np.all(~np.isnan(tot[j,:]))\n",
    "    tot = tot[nanfilt,:]\n",
    "    plot_trace(t,tot,c='rosybrown',ax=ax[i],indiv=False,med=True)\n",
    "    ax[i].set_xticks(range(-90,210,180))\n",
    "    ax[i].grid(False)\n",
    "    ax[i].spines['top'].set_visible(False)\n",
    "    ax[i].spines['right'].set_visible(False)\n",
    "    ax[i].spines['left'].set_visible(False)\n",
    "    ax[i].spines['bottom'].set_visible(False)\n",
    "ax[1].set_xlim([-90,210])\n",
    "plt.savefig('Fig3C.pdf')"
   ]
  },
  {
   "cell_type": "code",
   "execution_count": 57,
   "metadata": {},
   "outputs": [],
   "source": [
    "i = 7\n",
    "for j in range(len(replabels)):\n",
    "    f = (data[:,0] == templabels[i])\n",
    "    g = (data[:,1] == replabels[j])\n",
    "    a = data[f & g,3]\n",
    "    tot[j,:] = a"
   ]
  },
  {
   "cell_type": "code",
   "execution_count": 64,
   "metadata": {},
   "outputs": [
    {
     "ename": "SyntaxError",
     "evalue": "invalid syntax (<ipython-input-64-0ac798a5151f>, line 1)",
     "output_type": "error",
     "traceback": [
      "\u001b[0;36m  File \u001b[0;32m\"<ipython-input-64-0ac798a5151f>\"\u001b[0;36m, line \u001b[0;32m1\u001b[0m\n\u001b[0;31m    tot[np.all(~np.isnan(tot[j,:])) for j in range(len(replabels))]\u001b[0m\n\u001b[0m                                      ^\u001b[0m\n\u001b[0;31mSyntaxError\u001b[0m\u001b[0;31m:\u001b[0m invalid syntax\n"
     ]
    }
   ],
   "source": [
    "tot[np.all(~np.isnan(tot[j,:])) for j in range(len(replabels))]"
   ]
  },
  {
   "cell_type": "code",
   "execution_count": null,
   "metadata": {},
   "outputs": [],
   "source": []
  }
 ],
 "metadata": {
  "kernelspec": {
   "display_name": "Python 3",
   "language": "python",
   "name": "python3"
  },
  "language_info": {
   "codemirror_mode": {
    "name": "ipython",
    "version": 3
   },
   "file_extension": ".py",
   "mimetype": "text/x-python",
   "name": "python",
   "nbconvert_exporter": "python",
   "pygments_lexer": "ipython3",
   "version": "3.6.7"
  }
 },
 "nbformat": 4,
 "nbformat_minor": 2
}
