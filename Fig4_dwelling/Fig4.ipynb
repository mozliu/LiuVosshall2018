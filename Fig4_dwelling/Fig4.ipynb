{
 "cells": [
  {
   "cell_type": "code",
   "execution_count": 1,
   "metadata": {
    "collapsed": true
   },
   "outputs": [],
   "source": [
    "import numpy as np\n",
    "import pandas as pd\n",
    "import matplotlib.pyplot as plt\n",
    "from copy import deepcopy\n",
    "import scipy.signal as signal\n",
    "import scipy.stats as stats\n",
    "from scipy.interpolate import spline\n",
    "from statsmodels.robust.scale import mad\n",
    "import scipy.io as sio\n",
    "from statsmodels.formula.api import ols\n",
    "from statsmodels.stats.anova import anova_lm\n",
    "from statsmodels.graphics.factorplots import interaction_plot\n",
    "import hsutil\n",
    "from importlib import reload\n",
    "%matplotlib inline\n",
    "plt.style.use('seaborn-whitegrid')\n",
    "plt.style.use('seaborn-paper')"
   ]
  },
  {
   "cell_type": "code",
   "execution_count": 4,
   "metadata": {
    "collapsed": true
   },
   "outputs": [],
   "source": [
    "path = 'D:\\\\Dropbox\\\\labwork\\\\behavior\\\\heatseeking-pilot\\\\'\n",
    "data = sio.loadmat(path+'dwell36_topy')\n",
    "cd = data['cd'][0]\n",
    "cl = data['cl'][0]\n",
    "ct = data['ct'][0]\n",
    "hd = data['hd'][0]\n",
    "hl = data['hl'][0]\n",
    "ht = data['ht'][0]\n",
    "gd = data['gd'][0]\n",
    "gl = data['gl'][0]\n",
    "gt = data['gt'][0]"
   ]
  },
  {
   "cell_type": "code",
   "execution_count": 11,
   "metadata": {},
   "outputs": [
    {
     "data": {
      "image/png": "[encoded data removed]",
      "text/plain": [
       "<matplotlib.figure.Figure at 0x1467950e4e0>"
      ]
     },
     "metadata": {},
     "output_type": "display_data"
    }
   ],
   "source": [
    "reload(hsutil)\n",
    "f,ax = plt.subplots(1,3,sharex=True)\n",
    "pc = ['orange','olivedrab','purple']\n",
    "f.set_size_inches(5,2)\n",
    "ax[0] = hsutil.dotplot(np.vstack([cd,hd,gd]),pc=pc,mc='r',ax=ax[0],fixline=False)\n",
    "ax[1] = hsutil.dotplot(np.vstack([cl,hl,gl]),pc=pc,mc='g',ax=ax[1],fixline=False)\n",
    "ax[2] = hsutil.dotplot(np.vstack([ct,ht,gt]),pc=pc,mc='m',ax=ax[2],fixline=False)\n",
    "for a in ax:\n",
    "    a.spines['top'].set_visible(False)\n",
    "    a.spines['right'].set_visible(False)\n",
    "    a.spines['left'].set_visible(False)\n",
    "    a.spines['bottom'].set_visible(False)\n",
    "    a.xaxis.grid(False)\n",
    "    a.yaxis.grid(False)\n",
    "ax[-1].set_xlim(-0.5,2.5)\n",
    "plt.savefig('gr3dotplots_time-land-take.pdf')"
   ]
  },
  {
   "cell_type": "code",
   "execution_count": 8,
   "metadata": {
    "collapsed": true
   },
   "outputs": [],
   "source": [
    "def kruskal(fda):\n",
    "    print(stats.kruskal(*(d for d in fda)).pvalue)\n",
    "    ntests = 0\n",
    "    for i in range(len(fda)):\n",
    "        printstr = ''\n",
    "        for j in range(i+1,len(fda)):\n",
    "            printstr = printstr + str(round(stats.mannwhitneyu(fda[i],fda[j],alternative='two-sided').pvalue,4)) + '\\t'\n",
    "            ntests += 1\n",
    "        print(printstr)\n",
    "    print(0.05/ntests)\n",
    "    return stats.kruskal(*(d for d in fda)).pvalue"
   ]
  },
  {
   "cell_type": "code",
   "execution_count": 9,
   "metadata": {},
   "outputs": [
    {
     "name": "stdout",
     "output_type": "stream",
     "text": [
      "0.0277423453069\n",
      "0.4712\t0.0306\t\n",
      "0.0306\t\n",
      "\n",
      "0.016666666666666666\n"
     ]
    },
    {
     "data": {
      "text/plain": [
       "0.027742345306923141"
      ]
     },
     "execution_count": 9,
     "metadata": {},
     "output_type": "execute_result"
    }
   ],
   "source": [
    "kruskal(np.vstack([cd,hd,gd]))"
   ]
  },
  {
   "cell_type": "code",
   "execution_count": 10,
   "metadata": {},
   "outputs": [
    {
     "name": "stdout",
     "output_type": "stream",
     "text": [
      "0.00309558685237\n",
      "0.5752\t0.0051\t\n",
      "0.0051\t\n",
      "\n",
      "0.016666666666666666\n"
     ]
    },
    {
     "data": {
      "text/plain": [
       "0.0030955868523652374"
      ]
     },
     "execution_count": 10,
     "metadata": {},
     "output_type": "execute_result"
    }
   ],
   "source": [
    "kruskal(np.vstack([cl,hl,gl]))"
   ]
  },
  {
   "cell_type": "code",
   "execution_count": null,
   "metadata": {
    "collapsed": true
   },
   "outputs": [],
   "source": []
  }
 ],
 "metadata": {
  "kernelspec": {
   "display_name": "Python 3",
   "language": "python",
   "name": "python3"
  },
  "language_info": {
   "codemirror_mode": {
    "name": "ipython",
    "version": 3
   },
   "file_extension": ".py",
   "mimetype": "text/x-python",
   "name": "python",
   "nbconvert_exporter": "python",
   "pygments_lexer": "ipython3",
   "version": "3.6.1"
  }
 },
 "nbformat": 4,
 "nbformat_minor": 2
}
